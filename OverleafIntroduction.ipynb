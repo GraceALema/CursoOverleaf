{
 "cells": [
  {
   "cell_type": "markdown",
   "metadata": {
    "slideshow": {
     "slide_type": "slide"
    }
   },
   "source": [
    "<center/>\n",
    "    \n",
    "# Introducción a Overleaf\n",
    "## Desarrollo de Artículos en Revistas y Conferencias\n",
    "    \n",
    "<img src='images/overleaf_logo.png'/>\n",
    "    \n",
    "### Lenin G. Falconí\n",
    "\n",
    "    08 - 13 de Abril, 2020. 18:00 - 20:00\n"
   ]
  },
  {
   "cell_type": "markdown",
   "metadata": {
    "slideshow": {
     "slide_type": "slide"
    }
   },
   "source": [
    "## Objetivos:\n",
    "* Conocer Overleaf como un entorno para el desarrollo de documentos *Latex*\n",
    "* Desarrollar destrezas para redactar documentos en *Latex*\n",
    "* Desarrollar destrezas para generar presentaciones en *Latex*"
   ]
  },
  {
   "cell_type": "markdown",
   "metadata": {
    "slideshow": {
     "slide_type": "slide"
    }
   },
   "source": [
    "## Temario:\n",
    "* ¿Qué es Overleaf?\n",
    "* Introducción a Latex\n",
    "    * Estructura del documento de Latex\n",
    "    * Configuración del documento\n",
    "    * Configuración de bibliografía\n",
    "    * Insertar Imágenes\n",
    "    * Insertar Tablas\n",
    "    * Ecuaciones y expresiones Matemáticas\n",
    "* Manejo de Plantillas para revista/conferencia IEEE\n",
    "* Introducción a presentaciones con Beamer\n",
    "* Recomendaciones\n"
   ]
  },
  {
   "cell_type": "markdown",
   "metadata": {
    "slideshow": {
     "slide_type": "slide"
    }
   },
   "source": [
    "## Overleaf\n",
    "* Herramienta en línea para la generación de documentos *Latex*\n",
    "* Disponible en: https://www.overleaf.com/signup\n",
    "* Se unió y absorbió a *ShareLatex*\n",
    "* Dispone de distintos planes y **features**: https://www.overleaf.com/signup"
   ]
  },
  {
   "cell_type": "markdown",
   "metadata": {
    "slideshow": {
     "slide_type": "subslide"
    }
   },
   "source": [
    "### Fortalezas:\n",
    "* Dispone de un modo de **Rich Text** o texto enriquecido que oculta los comandos latex para dar más legibilidad.\n",
    "* Dispone del modo **Source** donde se puede observar todos los comandos empleados.\n",
    "* Desarrollo en línea evitando instalar paquetes en el computador.\n",
    "* Autocompleta los comandos lo cual es útil y eficiente."
   ]
  },
  {
   "cell_type": "markdown",
   "metadata": {
    "slideshow": {
     "slide_type": "subslide"
    }
   },
   "source": [
    "### Debilidades:\n",
    "* Si el documento es muy complejo puede tener problemas de TimeOut\n",
    "* No todas las funcionalidades estan en la versión libre o están limitadas"
   ]
  },
  {
   "cell_type": "markdown",
   "metadata": {
    "slideshow": {
     "slide_type": "slide"
    }
   },
   "source": [
    "## Latex\n",
    "\n",
    "* Esquema de Trabajo es WYSIWYM (what you see is what you mean): lo que se ve es lo que significa\n",
    "* El escritor se enfoca en el desarrollo del contenido, no en el formato del contenido (espacios, tabulaciones, márgenes)\n",
    "* El formato se controla por medio de comandos que indican al compilador el diseño deseado.\n",
    "\n",
    "```Latex\n",
    "\\documentclass{article}\n",
    "\\usepackage{algorithmic}\n",
    "\\usepackage{graphicx}\n",
    "\\begin{document}\n",
    "First document. This is a simple example, with no \n",
    "extra parameters or packages included.\n",
    "\\end{document}\n",
    "```"
   ]
  },
  {
   "cell_type": "markdown",
   "metadata": {
    "slideshow": {
     "slide_type": "subslide"
    }
   },
   "source": [
    "### Estructura de Documento Latex\n",
    "Existen las siguientes partes en un documento Latex:\n",
    "1. Preambulo del Documento: article, report, book\n",
    "```latex\n",
    "\\documentclass[12pt, letterpaper]{article}\n",
    "\\usepackage[utf8]{inputenc}\n",
    "\\usepackage[backend=biber, style=apa, sorting=ynt]{biblatex}\n",
    "\\addbibresource{references.bib}\n",
    "```\n",
    "2. Declaración de Título, Autor y Fecha:\n",
    "```latex\n",
    "\\title{First document}\n",
    "\\author{Hubert Farnsworth \\thanks{funded by the Overleaf team}}\n",
    "\\date{February 2017}\n",
    "```"
   ]
  },
  {
   "cell_type": "markdown",
   "metadata": {
    "slideshow": {
     "slide_type": "subslide"
    }
   },
   "source": [
    "### Estructura de Documento Latex\n",
    "3. Documento\n",
    "\n",
    "```latex\n",
    "\\begin{document}\n",
    "\n",
    "\\maketitle\n",
    "\\section{Introducción}\n",
    "Este es un tutorial de cómo escribir en \\LaTeX{}. El trabajo presenta una innovadora perspectiva sobre la condición humana \\parencite{adams1995hitchhiker} \n",
    "\n",
    "\\end{document}\n",
    "```\n",
    "4. Bibliografía:\n",
    "```latex\n",
    "\\printbibliography[title={Bibliografía}]\n",
    "\\end{document}\n",
    "```"
   ]
  },
  {
   "cell_type": "markdown",
   "metadata": {
    "slideshow": {
     "slide_type": "subslide"
    }
   },
   "source": [
    "## Configuración del Documento\n",
    "\n",
    "Dependiendo de la clase de documento podemos tener distintas opciones para controlar la geometría del mismo\n",
    "```latex\n",
    "\\usepackage{geometry}\n",
    " \\geometry{\n",
    " a4paper,\n",
    " total={170mm,257mm},\n",
    " left=20mm,\n",
    " top=20mm,\n",
    " }\n",
    " ```\n",
    "Más info: https://www.overleaf.com/learn/latex/Page_size_and_margins\n"
   ]
  },
  {
   "cell_type": "markdown",
   "metadata": {
    "slideshow": {
     "slide_type": "subslide"
    }
   },
   "source": [
    "### Configurando para usar Español\n",
    "Para usar español y otros idiomas se puede configurar el paquete de **babel**\n",
    "```latex\n",
    "%\\title{How to use Spanish accents in LaTeX}\n",
    "% From http://tex.stackexchange.com/a/78270/23931\n",
    "\n",
    "\\documentclass[11pt, spanish]{report}\n",
    "\\usepackage[spanish]{babel}\n",
    "\\selectlanguage{spanish}\n",
    "\\usepackage[utf8]{inputenc}\n",
    "\\begin{document}\n",
    "\n",
    "¡Hola! ¿Cómo estás ?\n",
    "\n",
    "\\end{document}\n",
    "```"
   ]
  },
  {
   "cell_type": "markdown",
   "metadata": {
    "slideshow": {
     "slide_type": "subslide"
    }
   },
   "source": [
    "### Configurando la bibliografía\n",
    "\n",
    "Existen diferentes paquetes que permiten controlar la bibliografía: natib, bibtex. Cada uno aporta diferentes funcionalidades y depende de lo que necesitemos para escoger el más adecuado. Una configuración en formato apa, por ejemplo es la siguiente, ubicada en el preámbulo del documento:\n",
    "\n",
    "\n",
    "```latex\n",
    "\\usepackage[backend=biber,style=apa,babel=other,maxcitenames=3]{biblatex}\n",
    "\\addbibresource{mendeley.bib}\n",
    "```"
   ]
  },
  {
   "cell_type": "markdown",
   "metadata": {
    "slideshow": {
     "slide_type": "subslide"
    }
   },
   "source": [
    "### Configurando la bibliografía\n",
    "El archivo .bib se puede generar desde **Mendeley** o también desde **GoogleScholar** y tiene el formato siguiente:\n",
    "```bibtex\n",
    "@book{adams1995hitchhiker,\n",
    "  title={The Hitchhiker's Guide to the Galaxy},\n",
    "  author={Adams, D.},\n",
    "  isbn={9781417642595},\n",
    "  url={http://books.google.com/books?id=W-xMPgAACAAJ},\n",
    "  year={1995},\n",
    "  publisher={San Val}\n",
    "}\n",
    "```"
   ]
  },
  {
   "cell_type": "markdown",
   "metadata": {
    "slideshow": {
     "slide_type": "subslide"
    }
   },
   "source": [
    "### Comandos utilizados para citar:\n",
    "El comando utilizado por excelencia es el \\cite, no obstante podemos requerir de utilizar distintos estilos de citas. En el siguiente slide podemos ver los contenidos del documento guía o cheat sheet de Biblatex:http://tug.ctan.org/info/biblatex-cheatsheet/biblatex-cheatsheet.pdf"
   ]
  },
  {
   "cell_type": "code",
   "execution_count": 12,
   "metadata": {
    "slideshow": {
     "slide_type": "skip"
    }
   },
   "outputs": [
    {
     "name": "stdout",
     "output_type": "stream",
     "text": [
      "True\n"
     ]
    },
    {
     "data": {
      "text/html": [
       "\n",
       "        <iframe\n",
       "            width=\"600\"\n",
       "            height=\"300\"\n",
       "            src=\"/home/leninml/LennonJupyter/Slides/OverleafLatex/additional_sources/biblatex-cheatsheet.pdf\"\n",
       "            frameborder=\"0\"\n",
       "            allowfullscreen\n",
       "        ></iframe>\n",
       "        "
      ],
      "text/plain": [
       "<IPython.lib.display.IFrame at 0x7fd084b37828>"
      ]
     },
     "execution_count": 12,
     "metadata": {},
     "output_type": "execute_result"
    }
   ],
   "source": [
    "import os\n",
    "from IPython.display import IFrame, display_pdf\n",
    "file_path = os.path.join(os.getcwd(), 'additional_sources','biblatex-cheatsheet.pdf')\n",
    "print(os.path.isfile(file_path))\n",
    "IFrame(file_path, width=600, height=300)\n",
    "# display_pdf(file_path)"
   ]
  },
  {
   "cell_type": "markdown",
   "metadata": {
    "slideshow": {
     "slide_type": "subslide"
    }
   },
   "source": [
    "### Insertar Imágenes:\n",
    "Se recomienda llamar a la librería graphicx. El código básicamente es el siguiente:\n",
    "```latex\n",
    "\\documentclass[12pt, letterpaper]{article}\n",
    "\\usepackage{graphicx}\n",
    "\\begin{document}\n",
    "    \\begin{figure}\n",
    "        \\centering\n",
    "        \\includegraphics[width=\\textwidth]{path/to/image.png}\n",
    "        \\caption{Título de la Imágen}\n",
    "        \\scriptsize{Descripción Adicional de la imagen}\n",
    "        \\label{fig: referencia-imagen}\n",
    "\n",
    "    \\end{figure}\n",
    "\\end{document}\n",
    "```\n"
   ]
  },
  {
   "cell_type": "markdown",
   "metadata": {
    "slideshow": {
     "slide_type": "notes"
    }
   },
   "source": [
    "### Enlaces:\n",
    "http://tug.ctan.org/info/biblatex-cheatsheet/biblatex-cheatsheet.pdf"
   ]
  }
 ],
 "metadata": {
  "celltoolbar": "Slideshow",
  "kernelspec": {
   "display_name": "Python 3",
   "language": "python",
   "name": "python3"
  },
  "language_info": {
   "codemirror_mode": {
    "name": "ipython",
    "version": 3
   },
   "file_extension": ".py",
   "mimetype": "text/x-python",
   "name": "python",
   "nbconvert_exporter": "python",
   "pygments_lexer": "ipython3",
   "version": "3.6.10"
  },
  "livereveal": {
   "autolaunch": true
  },
  "rise": {
   "height": "67%",
   "transition": "zoom",
   "width": "67%"
  }
 },
 "nbformat": 4,
 "nbformat_minor": 4
}
